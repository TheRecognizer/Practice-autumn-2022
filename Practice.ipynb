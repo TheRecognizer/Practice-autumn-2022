{
 "cells": [
  {
   "cell_type": "markdown",
   "metadata": {},
   "source": [
    "Practice"
   ]
  },
  {
   "cell_type": "markdown",
   "metadata": {},
   "source": [
    "EM for bivariate Gaussian data"
   ]
  },
  {
   "cell_type": "code",
   "execution_count": 1,
   "metadata": {},
   "outputs": [],
   "source": [
    "#R1\n",
    "import math\n",
    "import numpy as np\n",
    "import random\n",
    "import matplotlib.pyplot as plt\n",
    "import pandas as pd\n",
    "from sklearn import linear_model\n",
    "from scipy.stats import t\n",
    "import warnings\n",
    "warnings.filterwarnings('ignore')\n",
    "n=100\n",
    "r=math.floor(n*0.3)\n",
    "mu=[5, -1]\n",
    "Sigma=[[1.3,0.4],[0.4,0.9]]\n",
    "Y=np.random.multivariate_normal(size=n,mean=mu,cov=Sigma)\n",
    "f=[1 for i in range(n-r)]\n",
    "g=[0 for i in range(r)]\n",
    "h=f+g\n",
    "random.shuffle(h)\n",
    "for i in range(len(h)):\n",
    "    if h[i]==0:\n",
    "        Y[i,1]=None"
   ]
  },
  {
   "cell_type": "code",
   "execution_count": 2,
   "metadata": {},
   "outputs": [],
   "source": [
    "#R2\n",
    "hat_mu1=(1/n)*sum(Y[:,0])\n",
    "# cleared_arr - выделяет из массива подмассив непропущенных данных\n",
    "def cleared_arr(a):\n",
    "    b=list()\n",
    "    for i in range(len(a)):\n",
    "        if np.isnan(Y[i,1])==False:\n",
    "            b.append(Y[i])\n",
    "    return np.squeeze(b)\n",
    "\n",
    "def estimators(a):\n",
    "    y1_bar=np.mean(a[:,0])\n",
    "    y2_bar=np.mean(a[:,1])\n",
    "    s11=np.mean((a[:,0]-y1_bar)**2)\n",
    "    s22=np.mean((a[:,1]-y2_bar)**2)\n",
    "    s12=np.mean((a[:,0]-y1_bar)*(a[:,1]-y2_bar))\n",
    "    return y1_bar, y2_bar, s11, s22, s12\n",
    "y1_bar, y2_bar, s11, s22, s12 = estimators(cleared_arr(Y))\n",
    "hat_beta_21_1=s12/s11\n",
    "hat_beta_20_1 = y2_bar-hat_beta_21_1*y1_bar\n",
    "hat_mu2=hat_beta_21_1*hat_mu1+hat_beta_20_1\n",
    "res_ml=(hat_mu1,hat_mu2)"
   ]
  },
  {
   "cell_type": "code",
   "execution_count": 3,
   "metadata": {},
   "outputs": [],
   "source": [
    "#R3\n",
    "def Estep(Y,mu,Sigma):\n",
    "    n=len(Y)\n",
    "    sigma_22_1=Sigma[1,1]-(Sigma[0,1]**2)/Sigma[0,0]\n",
    "    beta_21_1=Sigma[0,1]/Sigma[0,0]\n",
    "    beta_20_1=mu[1]-beta_21_1*mu[0]\n",
    "    E_y2=np.zeros(n)\n",
    "    for i in range(len(Y)):\n",
    "        if np.isnan(Y[i,1])==True:\n",
    "            E_y2[i]=beta_20_1+beta_21_1*Y[i,0]\n",
    "        else:\n",
    "            E_y2[i]=Y[i,1]\n",
    "    E_y1=Y[:,0].copy()\n",
    "    E_y2_y2=np.zeros(n)\n",
    "    for i in range(len(E_y2)):\n",
    "        if np.isnan(Y[i,1])==True:\n",
    "            E_y2_y2[i]=E_y2[i]**2+sigma_22_1\n",
    "        else: \n",
    "            E_y2_y2[i]=E_y2[i]**2\n",
    "    E_y1_y1=Y[:,0]**2\n",
    "    E_y1_y2=np.zeros(n)\n",
    "    E_y1_y2=E_y2*E_y1\n",
    "    return sum(E_y1), sum(E_y2), sum(E_y1_y1), sum(E_y1_y2), sum(E_y2_y2)\n",
    "# s1, s2, s11, s12, s22\n",
    "def Mstep(Y, s1, s2, s11, s12, s22):\n",
    "    n=len(Y)\n",
    "    mu1=s1/n\n",
    "    mu2=s2/n\n",
    "    sigma1=s11/n-mu1**2\n",
    "    sigma2=s22/n-mu2**2\n",
    "    sigma12=s12/n-mu1*mu2\n",
    "    mu=np.array([mu1,mu2],dtype=np.float64)\n",
    "    Sigma=np.array([[sigma1,sigma12],[sigma12,sigma2]],dtype=np.float64)\n",
    "    return mu,Sigma\n",
    "            \n",
    "    \n",
    "\n"
   ]
  },
  {
   "cell_type": "code",
   "execution_count": 4,
   "metadata": {},
   "outputs": [],
   "source": [
    "#R4\n",
    "def initEM(Y):\n",
    "    n=len(Y)\n",
    "    mv=0\n",
    "    for i in range(len(Y)):\n",
    "        if np.isnan(Y[i,1])==True:\n",
    "            mv+=1\n",
    "    r=n-mv\n",
    "    mu1=np.mean(Y[:,0])\n",
    "    Z=Y[:,1]\n",
    "    Z0=list()\n",
    "    for i in range(len(Y)):\n",
    "        if np.isnan(Y[i,1])==False:\n",
    "            Z0.append(Y[i,0])\n",
    "    Z = Z[~np.isnan(Z)]\n",
    "    mu2=np.mean(Z)\n",
    "    s1=np.mean(Y[:,0]**2)-mu1**2\n",
    "    s2=np.mean(Z)-mu2**2\n",
    "    s12=np.mean(Z0*Z)-mu1*mu2\n",
    "    mu=np.array([mu1,mu2],dtype=np.float64)\n",
    "    Sigma=np.array([[s1,s12],[s12,s2]],dtype=np.float64)\n",
    "    return mu,Sigma\n",
    "    \n"
   ]
  },
  {
   "cell_type": "code",
   "execution_count": 5,
   "metadata": {},
   "outputs": [
    {
     "name": "stdout",
     "output_type": "stream",
     "text": [
      "mu: [ 5.13240648 -0.91955723] \n",
      " Sigma: [[ 1.27307663  0.42489219]\n",
      " [ 0.42489219 -1.76514273]]\n"
     ]
    },
    {
     "data": {
      "image/png": "[encoded data removed]",
      "text/plain": [
       "<Figure size 432x288 with 1 Axes>"
      ]
     },
     "metadata": {
      "needs_background": "light"
     },
     "output_type": "display_data"
    }
   ],
   "source": [
    "#R5\n",
    "i_mu,i_Sigma=initEM(Y)\n",
    "hat_mu=i_mu.copy()\n",
    "hat_Sigma=i_Sigma.copy()\n",
    "print('mu:',i_mu,'\\n','Sigma:',i_Sigma)\n",
    "error_mu=np.zeros(50)\n",
    "\n",
    "for i in range(50):\n",
    "    error_mu[i]=np.sqrt(sum((hat_mu-mu)**2))\n",
    "    s1, s2, s11, s12, s22 = Estep(Y,hat_mu, hat_Sigma)\n",
    "    hat_mu,hat_Sigma = Mstep(Y, s1, s2, s11, s12, s22)\n",
    "plt.plot(list(error_mu),color='red')\n",
    "plt.title('the error of mu prediction')\n",
    "plt.xlabel('iteration')\n",
    "plt.ylabel('error')\n",
    "plt.grid()\n",
    "plt.show()\n",
    "    \n"
   ]
  },
  {
   "cell_type": "code",
   "execution_count": 6,
   "metadata": {},
   "outputs": [
    {
     "name": "stdout",
     "output_type": "stream",
     "text": [
      "res_ml (5.13240647944665, -0.9064133737527162)\n",
      "resEM [ 5.13240648 -0.90641337]\n"
     ]
    }
   ],
   "source": [
    "#R6\n",
    "resEM=hat_mu\n",
    "print('res_ml',res_ml)\n",
    "print('resEM',resEM)"
   ]
  },
  {
   "cell_type": "code",
   "execution_count": 7,
   "metadata": {},
   "outputs": [
    {
     "name": "stdout",
     "output_type": "stream",
     "text": [
      "Iteration= 3 , Convergence rate of mu2 = 0.10433222081303951 \n",
      "\n",
      "Iteration= 4 , Convergence rate of mu2 = -0.20017567614297335 \n",
      "\n",
      "Iteration= 5 , Convergence rate of mu2 = 0.9725727297293916 \n",
      "\n",
      "Iteration= 6 , Convergence rate of mu2 = 0.4880574177256987 \n",
      "\n",
      "Iteration= 7 , Convergence rate of mu2 = 0.4059560206999787 \n",
      "\n",
      "Iteration= 8 , Convergence rate of mu2 = 0.3726259147639938 \n",
      "\n",
      "Iteration= 9 , Convergence rate of mu2 = 0.35490359050847015 \n",
      "\n",
      "Iteration= 10 , Convergence rate of mu2 = 0.3441247170077085 \n",
      "\n",
      "Iteration= 11 , Convergence rate of mu2 = 0.33702594943701764 \n",
      "\n",
      "Iteration= 12 , Convergence rate of mu2 = 0.3321028337186921 \n",
      "\n",
      "Iteration= 13 , Convergence rate of mu2 = 0.32856494561105226 \n",
      "\n",
      "Iteration= 14 , Convergence rate of mu2 = 0.3259572448424519 \n",
      "\n",
      "Iteration= 15 , Convergence rate of mu2 = 0.32399860548954407 \n",
      "\n",
      "Iteration= 16 , Convergence rate of mu2 = 0.32250701542866433 \n",
      "\n",
      "Iteration= 17 , Convergence rate of mu2 = 0.3213547293094756 \n",
      "\n",
      "Iteration= 18 , Convergence rate of mu2 = 0.32047902142068396 \n",
      "\n",
      "Iteration= 19 , Convergence rate of mu2 = 0.3197670722559154 \n",
      "\n",
      "Percentage of missingness is: 0.3\n"
     ]
    }
   ],
   "source": [
    "#Q7\n",
    "i_mu,i_Sigma=initEM(Y)\n",
    "hat_mu=i_mu.copy()\n",
    "old_hat_mu=old_old_hat_mu=0\n",
    "hat_Sigma=i_Sigma.copy()\n",
    "error_mu=np.zeros(20)\n",
    "for i in range(20):\n",
    "    old_old_hat_mu=old_hat_mu\n",
    "    old_hat_mu=hat_mu\n",
    "    s1, s2, s11, s12, s22 = Estep(Y,hat_mu, hat_Sigma)\n",
    "    hat_mu,hat_Sigma = Mstep(Y, s1, s2, s11, s12, s22)\n",
    "    if (i>=3):\n",
    "        print('Iteration=',i,\", Convergence rate of mu2 =\",(hat_mu-old_hat_mu)[1]/(old_hat_mu-old_old_hat_mu)[1],'\\n')\n",
    "num_miss=0\n",
    "num=len(Y[:,1])\n",
    "for i in range(len(Y)):\n",
    "    if np.isnan(Y[i,1]):\n",
    "        num_miss+=1\n",
    "print(\"Percentage of missingness is:\", num_miss/num)"
   ]
  },
  {
   "cell_type": "code",
   "execution_count": 8,
   "metadata": {},
   "outputs": [],
   "source": [
    "#R7-1\n",
    "n = 100\n",
    "r = math.floor(n*0.3)\n",
    "mu = [5, -1]\n",
    "Sigma = [[1.3,0.4],[0.4,0.9]]\n",
    "Y=np.random.multivariate_normal(size=n,mean=mu,cov=Sigma)\n",
    "f=[1 for i in range(n-r)]\n",
    "g=[0 for i in range(r)]\n",
    "h=f+g\n",
    "random.shuffle(h)\n",
    "Y1=Y.copy()\n",
    "for i in range(len(h)):\n",
    "    if h[i]==0:\n",
    "        Y1[i,1]=None\n",
    "Y2=Y.copy()\n",
    "MinValueToDelete=np.flip(np.sort(Y[:,1]))[29]\n",
    "deletescore=0\n",
    "for i in range(len(Y2)):\n",
    "    if deletescore<30 and Y2[i,1]>=MinValueToDelete:\n",
    "        Y2[i,1]=None\n"
   ]
  },
  {
   "cell_type": "code",
   "execution_count": 9,
   "metadata": {},
   "outputs": [
    {
     "name": "stdout",
     "output_type": "stream",
     "text": [
      "hat_mu_MAR: [ 4.7375836  -1.02784882]\n",
      "hat_mu_MNAR: [ 4.7375836  -0.61472397]\n",
      "hat_Sigma_MAR: [[ 1.32421345  4.13979034]\n",
      " [ 4.13979034 -4.70987941]]\n",
      "hat_Sigma_MNAR: [[ 1.32421345  6.37293155]\n",
      " [ 6.37293155 -0.59441314]]\n"
     ]
    }
   ],
   "source": [
    "#R7-2\n",
    "i1_mu, i1_Sigma = initEM(Y1)\n",
    "hat_mu_MAR=i1_mu\n",
    "hat_Sigma_MAR=i1_Sigma\n",
    "i2_mu, i2_Sigma = initEM(Y2)\n",
    "hat_mu_MNAR=i2_mu\n",
    "hat_Sigma_MNAR=i2_Sigma\n",
    "\n",
    "#MAR\n",
    "i1_mu, i1_Sigma = initEM(Y1)\n",
    "hat_mu_MAR=i1_mu\n",
    "hat_Sigma_MAR=i1_Sigma\n",
    "error_mu=np.zeros(50)\n",
    "for i in range(50):\n",
    "    error_mu[i]=np.sqrt(sum((hat_mu_MAR-mu)**2))\n",
    "    # E step\n",
    "    s1, s2, s11, s12, s22=Estep(Y1, hat_mu_MAR, hat_Sigma_MAR)\n",
    "    hat_mu_MAR, hat_Sigma_MAR=Mstep(Y1, s1, s2, s11, s22, s12)\n",
    "\n",
    "\n",
    "#MNAR\n",
    "i2_mu, i2_Sigma = initEM(Y2)\n",
    "hat_mu_MNAR=i2_mu\n",
    "hat_Sigma_MNAR=i2_Sigma\n",
    "error_mu=np.zeros(50)\n",
    "for i in range(50):\n",
    "    error_mu[i]=np.sqrt(sum((hat_mu_MNAR-mu)**2))\n",
    "    # E step\n",
    "    s1, s2, s11, s12, s22=Estep(Y2, hat_mu_MNAR, hat_Sigma_MNAR)\n",
    "    hat_mu_MNAR, hat_Sigma_MNAR=Mstep(Y2, s1, s2, s11, s22, s12)\n",
    "\n",
    "print('hat_mu_MAR:',hat_mu_MAR)\n",
    "print('hat_mu_MNAR:',hat_mu_MNAR)\n",
    "print('hat_Sigma_MAR:',hat_Sigma_MAR)\n",
    "print('hat_Sigma_MNAR:',hat_Sigma_MNAR)"
   ]
  },
  {
   "cell_type": "markdown",
   "metadata": {},
   "source": [
    "Illustration of single imputation methods"
   ]
  },
  {
   "cell_type": "code",
   "execution_count": 10,
   "metadata": {},
   "outputs": [],
   "source": [
    "n=100"
   ]
  },
  {
   "cell_type": "code",
   "execution_count": 11,
   "metadata": {},
   "outputs": [],
   "source": [
    "# Вспомогательные функции\n",
    "def plot_maker(X1,Y1,X2,Y2,title):\n",
    "    plt.title(title)\n",
    "    plt.scatter(X1,Y1,color='blue',label='known data')\n",
    "    plt.scatter(X2,Y2,color='red',label='imputed data')\n",
    "    plt.xlim([50,200])\n",
    "    plt.ylim([50,200])\n",
    "    plt.legend(loc='upper left')\n",
    "    plt.xlabel(\"X\")\n",
    "    plt.ylabel(\"Y\")\n",
    "    plt.grid()\n",
    "    plt.show()\n",
    "def gaussian_noise(x, mu = 0, std=None, random_state = 8):\n",
    "    rs = np.random.RandomState(random_state)\n",
    "    noise = rs.normal(mu, std, size = x.shape)\n",
    "    return x + noise\n",
    "def data_maker(n=100):    \n",
    "    sigma=np.array([[625,375],[375,625]], dtype=np.float64)\n",
    "    don=np.random.multivariate_normal(size=n,mean=[125,125],cov=sigma)\n",
    "    f=[1 for i in range(27)]\n",
    "    g=[0 for i in range(73)]\n",
    "    h=f+g\n",
    "    random.shuffle(h)\n",
    "    donmiss=don.copy()\n",
    "    for i in range(len(donmiss)):\n",
    "        if h[i]==0:\n",
    "            donmiss[i,1]=np.nan\n",
    "    return don, donmiss\n",
    "    "
   ]
  },
  {
   "cell_type": "code",
   "execution_count": 12,
   "metadata": {},
   "outputs": [],
   "source": [
    "don, donmiss = data_maker()"
   ]
  },
  {
   "cell_type": "code",
   "execution_count": 13,
   "metadata": {},
   "outputs": [
    {
     "data": {
      "image/png": "[encoded data removed]",
      "text/plain": [
       "<Figure size 432x288 with 1 Axes>"
      ]
     },
     "metadata": {
      "needs_background": "light"
     },
     "output_type": "display_data"
    }
   ],
   "source": [
    "plt.scatter(don[:,0],don[:,1],color='blue')\n",
    "plt.grid()\n",
    "plt.xlabel(\"X\")\n",
    "plt.ylabel(\"Y\")\n",
    "plt.show()"
   ]
  },
  {
   "cell_type": "code",
   "execution_count": 14,
   "metadata": {},
   "outputs": [],
   "source": [
    "d1=np.mean((donmiss[:,1])[~np.isnan(donmiss[:,1])])\n",
    "d_miss=np.zeros((73,2))\n",
    "d_obs=np.zeros((27,2))\n",
    "k1=0\n",
    "k2=0\n",
    "for i in range(len(donmiss)):\n",
    "    if np.isnan(donmiss[i,1]):\n",
    "        d_miss[k1]=[donmiss[i,0],d1]\n",
    "        k1+=1\n",
    "    else:\n",
    "        d_obs[k2]=donmiss[i]\n",
    "        k2+=1"
   ]
  },
  {
   "cell_type": "code",
   "execution_count": 15,
   "metadata": {},
   "outputs": [
    {
     "data": {
      "image/png": "[encoded data removed]",
      "text/plain": [
       "<Figure size 432x288 with 1 Axes>"
      ]
     },
     "metadata": {
      "needs_background": "light"
     },
     "output_type": "display_data"
    }
   ],
   "source": [
    "plot_maker(d_obs[:,0],d_obs[:,1],d_miss[:,0],d_miss[:,1],\"Mean imputation\")"
   ]
  },
  {
   "cell_type": "code",
   "execution_count": 16,
   "metadata": {},
   "outputs": [],
   "source": [
    "reg = linear_model.LinearRegression()\n",
    "reg.fit(d_obs[:,0].reshape((-1,1)),d_obs[:,1])\n",
    "k=reg.coef_\n",
    "b=reg.intercept_\n",
    "e_miss=np.zeros((73,2))\n",
    "k3=0\n",
    "for i in range(len(donmiss)):\n",
    "    if np.isnan(donmiss[i,1]):\n",
    "        e_miss[k3]=[donmiss[i,0],k*donmiss[i,0]+b]\n",
    "        k3+=1"
   ]
  },
  {
   "cell_type": "code",
   "execution_count": 17,
   "metadata": {},
   "outputs": [
    {
     "data": {
      "image/png": "[encoded data removed]",
      "text/plain": [
       "<Figure size 432x288 with 1 Axes>"
      ]
     },
     "metadata": {
      "needs_background": "light"
     },
     "output_type": "display_data"
    }
   ],
   "source": [
    "plot_maker(d_obs[:,0],d_obs[:,1],e_miss[:,0],e_miss[:,1],\"Regression imputation\")"
   ]
  },
  {
   "cell_type": "code",
   "execution_count": 18,
   "metadata": {},
   "outputs": [],
   "source": [
    "m_obs=k*d_obs[:,0]+b\n",
    "m_miss=k*d_miss[:,0]+b\n",
    "sigma=np.sqrt(np.var(d_obs[:,1]))\n",
    "stch_impute=gaussian_noise(m_miss,mu=0,std=sigma)"
   ]
  },
  {
   "cell_type": "code",
   "execution_count": 19,
   "metadata": {},
   "outputs": [
    {
     "data": {
      "image/png": "[encoded data removed]",
      "text/plain": [
       "<Figure size 432x288 with 1 Axes>"
      ]
     },
     "metadata": {
      "needs_background": "light"
     },
     "output_type": "display_data"
    }
   ],
   "source": [
    "plot_maker(d_obs[:,0],d_obs[:,1],e_miss[:,0],stch_impute,\"Stochastic linear regression\")"
   ]
  },
  {
   "cell_type": "code",
   "execution_count": 20,
   "metadata": {},
   "outputs": [],
   "source": [
    "imputed_data=np.array([list(d_miss[:,1])+list(d_obs[:,1]),list(e_miss[:,1])+list(d_obs[:,1]),list(stch_impute)+list(d_obs[:,1])])"
   ]
  },
  {
   "cell_type": "code",
   "execution_count": 21,
   "metadata": {},
   "outputs": [],
   "source": [
    "def results_maker(X):\n",
    "    d=np.zeros((7,3))\n",
    "    d[0,0]=np.mean(X[0])\n",
    "    d[0,1]=np.mean(X[1])\n",
    "    d[0,2]=np.mean(X[2])\n",
    "    d[1,0]=np.sqrt(np.var(X[0]))\n",
    "    d[1,1]=np.sqrt(np.var(X[1]))\n",
    "    d[1,2]=np.sqrt(np.var(X[2]))\n",
    "    d[2,0]=np.corrcoef(X[0],don[:,0])[0,1]\n",
    "    d[2,1]=np.corrcoef(X[1],don[:,0])[0,1]\n",
    "    d[2,2]=np.corrcoef(X[2],don[:,0])[0,1]\n",
    "    #qt(0.975,99) в R равна 1.984, ей должна соответствовать t.cdf в python, но в python результат иной\n",
    "    #поэтому подставляю как константу\n",
    "    d[3,0]=d[0,0]-d[1,0]*t.ppf(0.975,99)/np.sqrt(n)\n",
    "    d[4,0]=d[0,0]+d[1,0]*t.ppf(0.975,99)/np.sqrt(n)\n",
    "    d[3,1]=d[0,1]-d[1,1]*t.ppf(0.975,99)/np.sqrt(n)\n",
    "    d[4,1]=d[0,1]+d[1,1]*t.ppf(0.975,99)/np.sqrt(n)\n",
    "    d[3,2]=d[0,2]-d[1,2]*t.ppf(0.975,99)/np.sqrt(n)\n",
    "    d[4,2]=d[0,2]+d[1,2]*t.ppf(0.975,99)/np.sqrt(n)\n",
    "    d[5,0] = d[4,0]-d[3,0]\n",
    "    d[5,1] = d[4,1]-d[3,1]\n",
    "    d[5,2] = d[4,2]-d[3,2]\n",
    "    d[6,0] = int(d[4,0])>125 and 125>int(d[3,0])\n",
    "    d[6,1] = int(d[4,1])>125 and 125>int(d[3,1])\n",
    "    d[6,2] = int(d[4,2])>125 and 125>int(d[3,2])\n",
    "    df=pd.DataFrame(data=d,columns=[\"MEAN\",\"REG\", \"STOCH\"], index=[\"muhat_y\", \"sigmahat_y\", \"cor\", \"inf\", \"sup\", \"width\", \"coverage\"])\n",
    "    return df"
   ]
  },
  {
   "cell_type": "code",
   "execution_count": 22,
   "metadata": {},
   "outputs": [],
   "source": [
    "results=results_maker(imputed_data)"
   ]
  },
  {
   "cell_type": "code",
   "execution_count": 23,
   "metadata": {},
   "outputs": [],
   "source": [
    "def SimuMiss():\n",
    "    don, donmiss = data_maker()\n",
    "    d1=np.mean((donmiss[:,1])[~np.isnan(donmiss[:,1])])\n",
    "    d_miss=np.zeros((73,2))\n",
    "    d_obs=np.zeros((27,2))\n",
    "    k1=0\n",
    "    k2=0\n",
    "    for i in range(len(donmiss)):\n",
    "        if np.isnan(donmiss[i,1]):\n",
    "            d_miss[k1]=[donmiss[i,0],d1]\n",
    "            k1+=1\n",
    "        else:\n",
    "            d_obs[k2]=donmiss[i]\n",
    "            k2+=1\n",
    "    reg = linear_model.LinearRegression()\n",
    "    reg.fit(d_obs[:,0].reshape((-1,1)),d_obs[:,1])\n",
    "    k=reg.coef_\n",
    "    b=reg.intercept_\n",
    "    e_miss=np.zeros((73,2))\n",
    "    k3=0\n",
    "    for i in range(len(donmiss)):\n",
    "        if np.isnan(donmiss[i,1]):\n",
    "            e_miss[k3]=[donmiss[i,0],k*donmiss[i,0]+b]\n",
    "            k3+=1\n",
    "    m_obs=k*d_obs[:,0]+b\n",
    "    m_miss=k*d_miss[:,0]+b\n",
    "    #sigma=np.sqrt(np.var(d_obs[:,1]))\n",
    "    sigma=np.sqrt(np.var(d_obs[:,1]-m_obs))\n",
    "    stch_impute=gaussian_noise(m_miss,mu=0,std=sigma)\n",
    "    imputed_data=np.array([list(d_miss[:,1])+list(d_obs[:,1]),list(e_miss[:,1])+list(d_obs[:,1]),list(stch_impute)+list(d_obs[:,1])])\n",
    "    pre_results=results_maker(imputed_data)\n",
    "    pre_results=np.array(pre_results)\n",
    "    results=[pre_results[0],pre_results[5],pre_results[6]]\n",
    "    return results\n",
    "    \n",
    "    "
   ]
  },
  {
   "cell_type": "code",
   "execution_count": 24,
   "metadata": {},
   "outputs": [],
   "source": [
    "thousand_results=np.zeros((1000,3,3),dtype=np.float64)\n",
    "thr=thousand_results\n",
    "for i in range(1000):\n",
    "    thr[i]=SimuMiss()\n",
    "bias=[np.mean(thr[:,0,0]-125),np.mean(thr[:,0,1]-125),np.mean(thr[:,0,2]-125)]\n",
    "cov=[np.mean(thr[:,2,0]),np.mean(thr[:,2,1]),np.mean(thr[:,2,2])]\n",
    "avg_width=[np.average(thr[:,1,0]),np.average(thr[:,1,1]),np.average(thr[:,1,2])]\n",
    "res=[bias,cov,avg_width]"
   ]
  },
  {
   "cell_type": "code",
   "execution_count": 25,
   "metadata": {},
   "outputs": [
    {
     "data": {
      "text/plain": [
       "[[-0.05501768668557479, -0.0006151025803068251, 0.6048100228585699],\n",
       " [0.32, 0.542, 0.738],\n",
       " [5.018732282862133, 7.18727879078833, 10.401604795523635]]"
      ]
     },
     "execution_count": 25,
     "metadata": {},
     "output_type": "execute_result"
    }
   ],
   "source": [
    "res"
   ]
  },
  {
   "cell_type": "markdown",
   "metadata": {},
   "source": [
    "Функции создания пропущенных значений разных типов"
   ]
  },
  {
   "cell_type": "code",
   "execution_count": 26,
   "metadata": {},
   "outputs": [],
   "source": [
    "#3.2.8\n",
    "def MCAR(arr):\n",
    "    f=[1 for i in range(27)]\n",
    "    g=[0 for i in range(73)]\n",
    "    na=73\n",
    "    h=f+g\n",
    "    random.shuffle(h)\n",
    "    for i in range(len(arr)):\n",
    "        if h[i]==0:\n",
    "            arr[i,1]=np.nan\n",
    "    return arr, na\n",
    "    \n",
    "def MAR(arr):\n",
    "    na=0\n",
    "    for i in range(len(arr)):\n",
    "        if arr[i,0]<=140:\n",
    "            arr[i,1]=None\n",
    "            na+=1\n",
    "    return arr, na\n",
    "    \n",
    "def MNAR(arr):\n",
    "    na=0\n",
    "    for i in range(len(arr)):\n",
    "        if arr[i,1]<=140:\n",
    "            arr[i,1]=None\n",
    "            na+=1\n",
    "    return arr, na\n",
    "def alt_results(X,na):\n",
    "    d=np.zeros((6,4))\n",
    "    d[0,0]=np.mean(X[0])\n",
    "    d[0,1]=np.mean(X[1])\n",
    "    d[0,2]=np.mean(X[2])\n",
    "    d[0,3]=np.mean(X[3])\n",
    "    d[1,0]=np.sqrt(np.var(X[0]))\n",
    "    d[1,1]=np.sqrt(np.var(X[1]))\n",
    "    d[1,2]=np.sqrt(np.var(X[2]))\n",
    "    d[1,3]=np.sqrt(np.var(X[3]))\n",
    "    #qt(0.975,26) в R равна 2.055, ей должна соответствовать t.cdf в python, но в python результат иной\n",
    "    #поэтому подставляю как константу\n",
    "    d[2,0]=d[0,0]-d[0,1]*t.ppf(0.975,100-na-1)/np.sqrt(100-na-1)\n",
    "    d[3,0]=d[0,0]+d[0,1]*t.ppf(0.975,100-na-1)/np.sqrt(100-na-1)\n",
    "    #qt(0.975,99) в R равна 1.984, ей должна соответствовать t.cdf в python, но в python результат иной\n",
    "    #поэтому подставляю как константу\n",
    "    d[2,1]=d[0,1]-d[1,1]*t.ppf(0.975,99)/np.sqrt(n)\n",
    "    d[3,1]=d[0,1]+d[1,1]*t.ppf(0.975,99)/np.sqrt(n)\n",
    "    d[2,2]=d[0,2]-d[1,2]*t.ppf(0.975,99)/np.sqrt(n)\n",
    "    d[3,2]=d[0,2]+d[1,2]*t.ppf(0.975,99)/np.sqrt(n)\n",
    "    d[2,3]=d[0,3]-d[1,3]*t.ppf(0.975,99)/np.sqrt(n)\n",
    "    d[3,3]=d[0,3]+d[1,3]*t.ppf(0.975,99)/np.sqrt(n)\n",
    "    d[4,0] = d[3,0]-d[2,0]\n",
    "    d[4,1] = d[3,1]-d[2,1]\n",
    "    d[4,2] = d[3,2]-d[2,2]\n",
    "    d[4,3] = d[3,3]-d[2,3]\n",
    "    d[5,0] = int(d[3,0])>125 and 125>int(d[2,0])\n",
    "    d[5,1] = int(d[3,1])>125 and 125>int(d[2,1])\n",
    "    d[5,2] = int(d[3,2])>125 and 125>int(d[2,2])\n",
    "    d[5,3] = int(d[3,3])>125 and 125>int(d[2,3])\n",
    "    df=pd.DataFrame(data=d,columns=[\"CA\",\"MEAN\",\"REG\", \"STOCH\"], index=[\"muhat_y\", \"sigmahat_y\", \"inf\", \"sup\", \"width\", \"coverage\"])\n",
    "    return df"
   ]
  },
  {
   "cell_type": "code",
   "execution_count": 27,
   "metadata": {},
   "outputs": [],
   "source": [
    "def SimuMiss_(method):\n",
    "    na=0\n",
    "    don=np.random.multivariate_normal(size=n,mean=[125,125],cov=np.array([[625,375],[375,625]]))\n",
    "    donmiss=don.copy()\n",
    "    if method=='MAR':\n",
    "        donmiss, na=MAR(donmiss)      \n",
    "    if method=='MCAR':\n",
    "        donmiss, na=MCAR(donmiss)\n",
    "    if method=='MNAR':\n",
    "        donmiss, na=MNAR(donmiss)  \n",
    "    d1=np.mean((donmiss[:,1])[~np.isnan(donmiss[:,1])])\n",
    "    d_miss=np.zeros((na,2))\n",
    "    d_obs=np.zeros((100-na,2))\n",
    "    print(na)\n",
    "    k1=0\n",
    "    k2=0\n",
    "    for i in range(len(donmiss)):\n",
    "        if np.isnan(donmiss[i,1]):\n",
    "            d_miss[k1]=[donmiss[i,0],d1]\n",
    "            k1+=1\n",
    "        else:\n",
    "            d_obs[k2]=donmiss[i]\n",
    "            k2+=1\n",
    "    reg = linear_model.LinearRegression()\n",
    "    reg.fit(d_obs[:,0].reshape((-1,1)),d_obs[:,1])\n",
    "    k=reg.coef_\n",
    "    b=reg.intercept_\n",
    "    e_miss=np.zeros((na,2))\n",
    "    k3=0\n",
    "    for i in range(len(donmiss)):\n",
    "        if np.isnan(donmiss[i,1]):\n",
    "            e_miss[k3]=[donmiss[i,0],k*donmiss[i,0]+b]\n",
    "            k3+=1\n",
    "    m_obs=k*d_obs[:,0]+b\n",
    "    m_miss=k*d_miss[:,0]+b\n",
    "    sd=np.sqrt(np.var(d_obs[:,1]-m_obs))\n",
    "    stch_impute=gaussian_noise(m_miss,mu=0,std=sd)\n",
    "    imputed_data=np.array([list((donmiss[:,1])[~np.isnan(donmiss[:,1])]),list(d_miss[:,1])+list(d_obs[:,1]),list(e_miss[:,1])+list(d_obs[:,1]),list(stch_impute)+list(d_obs[:,1])])\n",
    "    pre_results=alt_results(imputed_data,na)\n",
    "    results=np.array(pre_results)\n",
    "    return results\n",
    "    "
   ]
  },
  {
   "cell_type": "code",
   "execution_count": 28,
   "metadata": {},
   "outputs": [
    {
     "name": "stdout",
     "output_type": "stream",
     "text": [
      "73\n",
      "77\n",
      "69\n",
      "[[124.47850258 124.47850258 126.46040763 127.12563819]\n",
      " [ 23.96131812  12.45066612  17.70384131  27.63111358]\n",
      " [ 74.29841877 122.00802031 122.94758142 121.6430258 ]\n",
      " [174.65858639 126.94898486 129.97323383 132.60825059]\n",
      " [100.36016762   4.94096455   7.02565241  10.96522479]\n",
      " [  1.           1.           1.           1.        ]]\n",
      "[[137.45105134 137.45105134 131.82580364 132.65197404]\n",
      " [ 19.73640033   9.46524509  10.37435933  22.0355786 ]\n",
      " [ 76.67690079 135.57294137 129.76730568 128.27963718]\n",
      " [198.22520189 139.32916132 133.88430161 137.0243109 ]\n",
      " [121.5483011    3.75621995   4.11699593   8.74467372]\n",
      " [  1.           0.           0.           0.        ]]\n",
      "[[156.92286678 156.92286678 153.23669233 153.42971441]\n",
      " [ 12.54837328   6.98663855   9.03314454  13.69673949]\n",
      " [ 98.41162889 155.53656611 151.44432048 150.71198414]\n",
      " [215.43410467 158.30916744 155.02906419 156.14744467]\n",
      " [117.02247578   2.77260133   3.5847437    5.43546054]\n",
      " [  1.           0.           0.           0.        ]]\n"
     ]
    }
   ],
   "source": [
    "MAT=np.zeros((6,4))+SimuMiss_(\"MCAR\")\n",
    "MAT1=np.zeros((6,4))+SimuMiss_(\"MAR\")\n",
    "MAT2=np.zeros((6,4))+SimuMiss_(\"MNAR\")\n",
    "print(MAT)\n",
    "print(MAT1)\n",
    "print(MAT2)"
   ]
  },
  {
   "cell_type": "code",
   "execution_count": 29,
   "metadata": {},
   "outputs": [],
   "source": [
    "def the_sample(X,n):\n",
    "    sample=list()\n",
    "    inds=np.random.randint(0, len(X),n)\n",
    "    for i in range(len(inds)):\n",
    "        sample.append(X[inds[i]])\n",
    "    sample=np.array(sample)\n",
    "    return sample[~np.isnan(sample[:,1])]\n",
    "def impult(method,M):\n",
    "    na=0\n",
    "    don=np.random.multivariate_normal(size=n,mean=[125,125],cov=np.array([[625,375],[375,625]]))\n",
    "    donmiss=don.copy()\n",
    "    if method=='MAR':\n",
    "        donmiss, na=MAR(donmiss)      \n",
    "    if method=='MCAR':\n",
    "        donmiss, na=MCAR(donmiss)\n",
    "    if method=='MNAR':\n",
    "        donmiss, na=MNAR(donmiss) \n",
    "    ThetaHat = [0 for i1 in range(100)]\n",
    "    VarThetaHat = [0 for i1 in range(100)]\n",
    "    V1 = [0 for i1 in range(100)]\n",
    "    V2 = [0 for i1 in range(100)]\n",
    "    for i in range(M):\n",
    "        # Создаем копию массива\n",
    "        donstch=donmiss.copy()\n",
    "        # Создаем подмассив, включающий все пары с пропущенным 2-м элементом и заполняем его\n",
    "        donstch_miss=list()\n",
    "        # Создаем подмассив, включающий только полные пары элементов\n",
    "        donstch_obs=list()\n",
    "        for j in range(len(donstch)):\n",
    "            if np.isnan(donstch[j][1]):\n",
    "                donstch_miss.append(donstch[j])\n",
    "            else:\n",
    "                donstch_obs.append(donstch[j])\n",
    "        donstch_miss=np.array(donstch_miss)\n",
    "        donstch_obs=np.array(donstch_obs)\n",
    "        # Создаем выборку с возвращением из 100 элементов \n",
    "        sample=the_sample(donstch,100)\n",
    "        #\n",
    "        reg = linear_model.LinearRegression()\n",
    "        # Обучаем выборку на известных данных\n",
    "        reg.fit(sample[:,0].reshape((-1,1)),sample[:,1])\n",
    "        # Предсказываем по первым элементам наблюдаемых данных,взятых из выборки sample,вторые элементы\n",
    "        reg_y=reg.predict(sample[:,0].reshape((-1,1)))\n",
    "        # Остаточная регрессия полученная по наблюдаемым данным\n",
    "        sd=np.sqrt(np.var(reg_y-sample[:,1]))\n",
    "        # Предсказываем пропуски вторых элементов по известным первым элементом\n",
    "        donstch_miss[:,1]=reg.predict(donstch_miss[:,0].reshape((-1,1)))\n",
    "        stch_impute=gaussian_noise(donstch_miss[:,1],mu=0,std=sd)\n",
    "        donstch_full=np.array(list(donstch_obs)+list(donstch_miss))\n",
    "        ThetaHat[i] = np.mean(donstch_full[:, 1])\n",
    "        VarThetaHat[i] = np.var(donstch_full[:, 1])/10\n",
    "        V2[i]=i\n",
    "    ThetaHat=np.array(ThetaHat)\n",
    "    VarThetaHat=np.array(VarThetaHat)\n",
    "    ThetaHatBar=np.mean(np.array(ThetaHat))\n",
    "    T=np.mean(VarThetaHat)+(1+1/M)*np.var(ThetaHat)\n",
    "    Imddf=(M-1)*(1+np.mean(VarThetaHat)/((M+1)*np.var(ThetaHat)))**2\n",
    "    IMINF=ThetaHatBar-t.ppf(0.975,df=Imddf)*np.sqrt(T)\n",
    "    IMSUP=ThetaHatBar+t.ppf(0.975,df=Imddf)*np.sqrt(T)\n",
    "    IMINCI = (125<=IMSUP) and (125>=IMINF)\n",
    "    IMWIDTH = IMSUP - IMINF\n",
    "    return [ThetaHatBar,IMINF,IMSUP,IMINCI,IMWIDTH]\n",
    "        \n",
    "        \n",
    "        \n",
    "        \n",
    "    "
   ]
  },
  {
   "cell_type": "code",
   "execution_count": 30,
   "metadata": {},
   "outputs": [
    {
     "name": "stdout",
     "output_type": "stream",
     "text": [
      "['ThetaHatBar', 'IMINF', 'IMSUP', 'IMINCI', 'IMWIDTH']\n",
      "[120.12087968 106.16778732 134.07397204   1.          27.90618473]\n",
      "[116.88531206  94.17797198 139.59265213   1.          45.41468015]\n",
      "[151.01563434 144.69845401 157.33281467   0.          12.63436066]\n"
     ]
    }
   ],
   "source": [
    "MAT= np.zeros(5)\n",
    "MAT1 = np.zeros(5)\n",
    "MAT2 = np.zeros(5)\n",
    "\n",
    "MAT = MAT + impult(\"MCAR\", M = 100)\n",
    "MAT1 = MAT1 + impult(\"MAR\", M = 100)\n",
    "MAT2 = MAT2 + impult(\"MNAR\", M = 100)\n",
    "\n",
    "param_names=['ThetaHatBar', 'IMINF', 'IMSUP', 'IMINCI', 'IMWIDTH']\n",
    "\n",
    "print(param_names)\n",
    "print(MAT)\n",
    "print(MAT1)\n",
    "print(MAT2)"
   ]
  },
  {
   "cell_type": "code",
   "execution_count": null,
   "metadata": {},
   "outputs": [],
   "source": []
  },
  {
   "cell_type": "code",
   "execution_count": null,
   "metadata": {},
   "outputs": [],
   "source": []
  },
  {
   "cell_type": "code",
   "execution_count": null,
   "metadata": {},
   "outputs": [],
   "source": []
  },
  {
   "cell_type": "code",
   "execution_count": null,
   "metadata": {},
   "outputs": [],
   "source": []
  },
  {
   "cell_type": "code",
   "execution_count": null,
   "metadata": {},
   "outputs": [],
   "source": []
  }
 ],
 "metadata": {
  "kernelspec": {
   "display_name": "Python 3",
   "language": "python",
   "name": "python3"
  },
  "language_info": {
   "codemirror_mode": {
    "name": "ipython",
    "version": 3
   },
   "file_extension": ".py",
   "mimetype": "text/x-python",
   "name": "python",
   "nbconvert_exporter": "python",
   "pygments_lexer": "ipython3",
   "version": "3.8.3"
  }
 },
 "nbformat": 4,
 "nbformat_minor": 4
}
